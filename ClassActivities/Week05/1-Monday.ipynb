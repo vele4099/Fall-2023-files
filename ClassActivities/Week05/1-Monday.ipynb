{
  "cells": [
    {
      "cell_type": "markdown",
      "metadata": {},
      "source": [
        "# Monday, September 15\n",
        "## Before Class:\n",
        "Find a new group to sit with\n",
        "\n",
        "## Announcements and Reminders\n",
        "- Chapter 5 Exercises: Due Today\n",
        "- Read Chapter 6: Due Today\n",
        "- Programming Assignment 2: Due Wednesday.  \n",
        "  - Student hour today: 1:30-3:30\n",
        "- Read Chapter 7: Due Wednesday\n",
        "\n",
        "### Questions:"
      ]
    },
    {
      "cell_type": "markdown",
      "metadata": {
        "id": "rPcP5eWXAO1Y"
      },
      "source": [
        "\n",
        "## Activity: Guess who, part three\n",
        "\n",
        "We have been thinking about how to write a program that can narrow down choices by considering the answers to questions.  For arbitrary animals, thinking about what questions to ask can be challenging, and then keeping track of what animals are still viable is also challenging.\n",
        "\n",
        "Let's simplify this by changing the game: instead of picking one of 26 animals, let's pick one of 1000 numbers."
      ]
    },
    {
      "cell_type": "code",
      "execution_count": null,
      "metadata": {},
      "outputs": [],
      "source": [
        "print(\"Hi!  I'm the python magician.  Think of any number less than 1000.\")\n",
        "\n",
        "q1 = input(\"Is youre number  bigger than 1\")\n",
        "\n",
        "even = input(\"Is your number even?\")\n",
        "if q1 == \"yes\": \n",
        "    q2 = int(input(\"Is your number bigger than 2?\"))\n",
        "    if q2 == \"yes\"\n",
        "    q3 = int(input(\"Is your number bigger than 3?\"))\n",
        "    else:\n",
        "        print(\"You are thinking of the number \")\n",
        "        \n",
        "else: \n",
        "    #ask another question \n",
        "    print(\"How many digits does your number have?\"))\n"
      ]
    },
    {
      "cell_type": "markdown",
      "metadata": {},
      "source": [
        "Add some questions above to try to guess the number.  Use conditionals.  How many lines of code will you need to write?\n",
        "\n",
        "You might want to use a function to consolidate some of the lines of code you keep repeating."
      ]
    },
    {
      "cell_type": "markdown",
      "metadata": {},
      "source": [
        "### Ask for a pony\n",
        "\n",
        "Forget for a moment that you are trying to implement this program in python.  Or that you are trying to implement this as all.  What would be a good strategy to get an answer?\n",
        "\n",
        "Then ask: what sort of mechanism would you need to implement this?  If you could have a pony..."
      ]
    },
    {
      "cell_type": "code",
      "execution_count": 11,
      "metadata": {},
      "outputs": [
        {
          "name": "stdout",
          "output_type": "stream",
          "text": [
            "Hi!  I'm the python magician.  Think of any number less than 1000.\n",
            "aha! you are thinking of the number 4\n"
          ]
        }
      ],
      "source": [
        "print(\"Hi!  I'm the python magician.  Think of any number less than 1000.\")\n",
        "\n",
        "answer = input(f\"Is your anser greater than {guess}?\")\n",
        "guess = 1\n",
        "while answer == \"yes\": \n",
        "    guess = guess + 1\n",
        "    answer = input(f\"Is your number greater than {guess}?\")\n",
        "print(f\"aha! you are thinking of the number {guess}\")\n"
      ]
    },
    {
      "cell_type": "code",
      "execution_count": 18,
      "metadata": {},
      "outputs": [
        {
          "name": "stdout",
          "output_type": "stream",
          "text": [
            "0\n",
            "1\n",
            "2\n",
            "3\n",
            "4\n",
            "5\n",
            "6\n",
            "21\n"
          ]
        }
      ],
      "source": [
        "def mult(x,y):\n",
        "    total = 0 \n",
        "    for counter in range(y): #range is all the numbers up to y but not y aka/// y = 5.... [1234]\n",
        "        total = total + x\n",
        "        print(counter)\n",
        "        counter = 10\n",
        "    return total \n",
        "\n",
        "print(mult(3,7))\n"
      ]
    },
    {
      "cell_type": "code",
      "execution_count": 15,
      "metadata": {},
      "outputs": [
        {
          "name": "stdout",
          "output_type": "stream",
          "text": [
            "8\n"
          ]
        }
      ],
      "source": [
        "def multiply(x,y):\n",
        "    counter = 0 \n",
        "    total = 0 \n",
        "    while counter < y: \n",
        "        total = total + x\n",
        "        counter = counter + 1\n",
        "    return total\n",
        "\n",
        "print(multiply(2,4))\n"
      ]
    },
    {
      "cell_type": "code",
      "execution_count": null,
      "metadata": {},
      "outputs": [],
      "source": [
        "def pony(x: str) -> str:\n",
        "    #this program should bother you until you say yes\n",
        "    "
      ]
    }
  ],
  "metadata": {
    "colab": {
      "include_colab_link": true,
      "provenance": []
    },
    "kernelspec": {
      "display_name": "Python 3",
      "name": "python3"
    },
    "language_info": {
      "codemirror_mode": {
        "name": "ipython",
        "version": 3
      },
      "file_extension": ".py",
      "mimetype": "text/x-python",
      "name": "python",
      "nbconvert_exporter": "python",
      "pygments_lexer": "ipython3",
      "version": "3.10.8"
    }
  },
  "nbformat": 4,
  "nbformat_minor": 0
}
