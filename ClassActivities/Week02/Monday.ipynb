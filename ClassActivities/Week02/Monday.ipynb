{
  "cells": [
    {
      "cell_type": "markdown",
      "metadata": {
        "id": "NYiRI0CLDVQQ"
      },
      "source": [
        "# Monday, August 28\n",
        "\n",
        "#### Announcements\n",
        "Before class starts: \n",
        "- Go to our github repository (https://github.com/UNC-CS130/Fall-2023-Files, or follow the link from Canvas).\n",
        "- Switch to your fork (the down-arrow on the `Forks` button).\n",
        "- Click on `Sync fork` and elect to add changes from upstream.\n",
        "- Open your Codespace for the repository or create a new one.\n",
        "- If you don't see this file (`Week02/Monday.ipynb`), do a \"Fetch\" from your \"origin\" (hit `CTRL+SHIFT+P`, type in `Fetch`).\n",
        "\n",
        "Work outside of class:\n",
        "- Reading for Chapter 3 is due on Wednesday before class.\n"
      ]
    },
    {
      "cell_type": "markdown",
      "metadata": {},
      "source": [
        "### Questions?"
      ]
    },
    {
      "cell_type": "markdown",
      "metadata": {
        "id": "hLj-dXhKD0Tb"
      },
      "source": [
        "## Today's Activity: A very depressing calculator\n",
        "\n",
        "In chapter 2, you read about expressions, variables (and their types), and operations.  Today, we will put those into practice by writing a python program to calculate how much time you have left.\n",
        "\n",
        "More specifically, we will create a python script that asks the \"user\" for their birthday and a target age.  The script will then calculate the number of days or weeks or etc until the user reaches that age."
      ]
    },
    {
      "cell_type": "markdown",
      "metadata": {},
      "source": [
        "### Problem specification\n",
        "\n",
        "Before jumping into writing code, we should specify exactly what we want our program to do.  What requirements do we have?\n",
        "\n",
        "First Pass: do everything in years\n",
        "\n",
        "1. Ask user for name\n",
        "2. Ask user for birthday\n",
        "3. Ask for their target age\n",
        "4. Ask for the current day \n",
        "5. Calculate how many years until they will be that age\n",
        "    first calculate their current age \n",
        "    then subtract\n",
        "6. Print out a message for how old long until their target age"
      ]
    },
    {
      "cell_type": "markdown",
      "metadata": {},
      "source": [
        "### Building requirements, one at a time\n",
        "\n",
        "Now let's start coding.  But take it slow.  We want to make sure that we can complete each requirement.  As we go, we will test that each requirement is met. \n",
        "\n",
        "Start with requirement 1 above.  What code can we write that does that step?"
      ]
    },
    {
      "cell_type": "code",
      "execution_count": 21,
      "metadata": {},
      "outputs": [
        {
          "name": "stdout",
          "output_type": "stream",
          "text": [
            "Hi what's your name?\n",
            "Hello there Andy\n"
          ]
        }
      ],
      "source": [
        "print(\"Hi what's your name?\")\n",
        "name_1 = str(input(\"Please enter your name: \"))\n",
        "print(\"Hello there \" + name_1)\n",
        "\n",
        "\n",
        "#birthday_1 = int(input(\"Please your birth year:\"))\n",
        "#current_day = int(input(\"Please enter your current year:\"))\n",
        "#target_age = int(input(\"Please Enter your target age:\"))\n",
        "\n",
        "\n",
        "\n"
      ]
    },
    {
      "cell_type": "markdown",
      "metadata": {},
      "source": [
        "### Keep going\n",
        "\n",
        "Now iterate this process.  Working in the code above, start adding functionality to your program, making sure that each thing you add is added correctly.\n",
        "\n",
        "You might discover that you should ask the user to enter information in a different format to make your life easier.  Make good choices.\n",
        "\n",
        "This is a good opportunity to write comments in your code to help keep it organized.  Remember, comments start with the `#` character."
      ]
    }
  ],
  "metadata": {
    "colab": {
      "provenance": []
    },
    "kernelspec": {
      "display_name": "Python 3",
      "name": "python3"
    },
    "language_info": {
      "codemirror_mode": {
        "name": "ipython",
        "version": 3
      },
      "file_extension": ".py",
      "mimetype": "text/x-python",
      "name": "python",
      "nbconvert_exporter": "python",
      "pygments_lexer": "ipython3",
      "version": "3.10.8"
    }
  },
  "nbformat": 4,
  "nbformat_minor": 0
}
