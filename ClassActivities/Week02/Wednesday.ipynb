{
  "cells": [
    {
      "cell_type": "markdown",
      "metadata": {
        "id": "NYiRI0CLDVQQ"
      },
      "source": [
        "# Wednesday, August 30\n",
        "We will continue working on the activity from last class; you can update your codespace in the usual way if you want to start fresh in this notebook, but other than the announcements, there is no difference between this and Monday's.\n",
        "\n",
        "#### Announcements\n",
        "- Reading for Chapter 3 was due before class.  Catch up ASAP if you haven't done this.\n",
        "- *Programming Assignment 1* is now available on Canvas.  Due next Wednesday at 11:59pm.\n",
        "- There will be a **quiz** covering chapter 2 at the start of class on Friday.\n"
      ]
    },
    {
      "cell_type": "markdown",
      "metadata": {},
      "source": [
        "### Questions?"
      ]
    },
    {
      "cell_type": "markdown",
      "metadata": {
        "id": "hLj-dXhKD0Tb"
      },
      "source": [
        "## Today's Activity: A very depressing calculator (again)\n",
        "\n",
        "In chapter 2, you read about expressions, variables (and their types), and operations.  Today, we will put those into practice by writing a python program to calculate how much time you have left.\n",
        "\n",
        "More specifically, we will create a python script that asks the \"user\" for their birthday and a target age.  The script will then calculate the number of days or weeks or etc until the user reaches that age."
      ]
    },
    {
      "cell_type": "markdown",
      "metadata": {},
      "source": [
        "### Problem specification\n",
        "\n",
        "Before jumping into writing code, we should specify exactly what we want our program to do.  What requirements do we have?\n",
        "\n",
        "First pass: do everything in years.\n",
        "\n",
        "1. Ask user for name\n",
        "2. Ask user for birthday\n",
        "3. Ask for their target age\n",
        "4. Ask for the current day\n",
        "5. Calculate how many years until they will be that age.\n",
        "   1. First calculate their current age\n",
        "   2. Then subtract.\n",
        "6. Print out a message telling the user how long until they are that age."
      ]
    },
    {
      "cell_type": "markdown",
      "metadata": {},
      "source": [
        "### Building requirements, one at a time\n",
        "\n",
        "Now let's start coding.  But take it slow.  We want to make sure that we can complete each requirement.  As we go, we will test that each requirement is met. \n",
        "\n",
        "Start with requirement 1 above.  What code can we write that does that step?"
      ]
    },
    {
      "cell_type": "code",
      "execution_count": 3,
      "metadata": {},
      "outputs": [
        {
          "ename": "SyntaxError",
          "evalue": "'return' outside function (564293167.py, line 25)",
          "output_type": "error",
          "traceback": [
            "\u001b[0;36m  Cell \u001b[0;32mIn[3], line 25\u001b[0;36m\u001b[0m\n\u001b[0;31m    return date_dict\u001b[0m\n\u001b[0m    ^\u001b[0m\n\u001b[0;31mSyntaxError\u001b[0m\u001b[0;31m:\u001b[0m 'return' outside function\n"
          ]
        }
      ],
      "source": [
        "# print(\"Hi what's your name?\") #name\n",
        "# name_1 = str(input(\"Please enter your name: \")) #get the input name\n",
        "# print(\"Hello there \", name_1, \" Will you please enter your birth year (0-xxxx)\") #this transitions name to birth year\n",
        "# birth_year = int(input(\"Birth years input box (0-xxxx):\")) #input for birth year\n",
        "# print(\"Wow!\", str(birth_year), \"was a very long time ago\", name_1 + \"!\") #silly chat calling person old\n",
        "# print(\"Matter of fact give me today's year to know how old you really are!(0-xxxx)\") #transition to current year\n",
        "# current_day = int(input(\"What year is it so the programm can make fun of you:\")) #current year input\n",
        "# current_age = str(current_day - birth_year)\n",
        "# print(current_age)\n",
        "# target_age = int(input(\"Please Enter your target age:\"))\n",
        "\n",
        "#There was no issue with the text above however there it is very complicated\n",
        "\n",
        "# name_1 = str(input(\"Please enter your name: \")) #get the input name\n",
        "# name_1 = int(input(\"Please enter your name: \")) #get birthday\n",
        "# name_1 = int(input(\"Please enter your name: \")) #get the target age\n",
        "# name_1 = int(input(\"Please enter your name: \")) #get the current name \n",
        "\n",
        "# def str2date(datestring):\n",
        "#     #intersting this indents the line by itself \n",
        "#     date = datestring.split (\"/\")\n",
        "\n",
        "#     date_dict ={\"month\":date(0), \"day\":date(0), \"year\":date(0)}\n",
        "\n",
        "# return date_dict\n",
        "\n",
        "# date = str2date(\"02/23/2004\")\n",
        "# print(data(\"year\"))\n"
      ]
    },
    {
      "cell_type": "markdown",
      "metadata": {},
      "source": [
        "### Keep going\n",
        "\n",
        "Now iterate this process.  Working in the code above, start adding functionality to your program, making sure that each thing you add is added correctly.\n",
        "\n",
        "You might discover that you should ask the user to enter information in a different format to make your life easier.  Make good choices.\n",
        "\n",
        "This is a good opportunity to write comments in your code to help keep it organized.  Remember, comments start with the `#` character."
      ]
    }
  ],
  "metadata": {
    "colab": {
      "provenance": []
    },
    "kernelspec": {
      "display_name": "Python 3",
      "name": "python3"
    },
    "language_info": {
      "codemirror_mode": {
        "name": "ipython",
        "version": 3
      },
      "file_extension": ".py",
      "mimetype": "text/x-python",
      "name": "python",
      "nbconvert_exporter": "python",
      "pygments_lexer": "ipython3",
      "version": "3.10.8"
    }
  },
  "nbformat": 4,
  "nbformat_minor": 0
}
